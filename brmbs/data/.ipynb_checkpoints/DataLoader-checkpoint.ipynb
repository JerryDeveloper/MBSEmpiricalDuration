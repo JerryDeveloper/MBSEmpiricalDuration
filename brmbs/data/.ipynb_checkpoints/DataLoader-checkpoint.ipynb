{
 "cells": [
  {
   "cell_type": "code",
   "execution_count": 15,
   "metadata": {},
   "outputs": [],
   "source": [
    "import numpy as np\n",
    "import pandas as pd"
   ]
  },
  {
   "cell_type": "code",
   "execution_count": 16,
   "metadata": {
    "collapsed": true
   },
   "outputs": [],
   "source": [
    "class DataLoader:\n",
    "    def load_all_data():\n",
    "        df = pd.read_csv(\"prc.csv\")  # TBA price\n",
    "        FN_issue = pd.read_csv(\"FN_issuance.csv\")  # issuance \n",
    "        rr_daily = pd.read_excel(\"ILM3NAVG_daily.xlsx\") # Use Bankrate.com US Home Mortgage 30year Fixed Natinal Avg\n",
    "        TR_10 = pd.read_excel(\"USGG10YR.xlsx\")\n",
    "        CMMFIX=pd.read_excel(\"CMMFIX.xlsx\",skiprows = 6) # treasury rate approxy\n",
    "        CMMFIX.sort_values(by='Date', axis=0, ascending=True,inplace=True) \n",
    "        CMMFIX = CMMFIX.reset_index(drop=True)\n",
    "        MTGFNCL=pd.read_excel(\"MTGEFNCL.xlsx\",skiprows = 5) # treasury rate approxy\n",
    "        MTGFNCL.sort_values(by='Date', axis=0, ascending=True,inplace=True) \n",
    "        MTGFNCL = MTGFNCL.reset_index(drop=True)\n",
    "        \n",
    "        rate_base=pd.DataFrame(MTGFNCL.merge(CMMFIX,how='left', on=\"Date\"),columns = ['Date','PX_LAST_x','PX_LAST_y'])\n",
    "        rate_Base=pd.DataFrame(rate_base.merge(TR_10,how='left', on=\"Date\"),columns = ['Date','PX_LAST_x','PX_LAST_y','PX_LAST'])\n",
    "        rate_Base=rate_Base.rename(columns={'PX_LAST_x': 'MTGFNCL', 'PX_LAST_y': 'CMMFIX','PX_LAST': 'TR'})\n",
    "        \n",
    "        rate_Base=rate_Base[:][['Date','MTGFNCL']]\n",
    "        rate_Base.set_index('Date', inplace = True)\n",
    "        coupon_rates=df['coupon'].unique()\n",
    "        coupon_rates.sort()\n",
    "        df['Date']=pd.to_datetime(df['date'], format='%Y%m%d')\n",
    "        df.set_index('Date', inplace = True)\n",
    "        df=df.drop('date',axis=1)\n",
    "\n",
    "        TBAs = {}\n",
    "        for i in np.arange(0, len(coupon_rates)):\n",
    "            TBAs[coupon_rates[i]] = df[(df['coupon']==coupon_rates[i])].dropna()\n",
    "            TBAs[coupon_rates[i]] = pd.concat([TBAs[coupon_rates[i]], rate_Base], axis=1, join='inner')\n",
    "            TBAs[coupon_rates[i]]['Spread']  = coupon_rates[i] - TBAs[coupon_rates[i]]['MTGFNCL']\n",
    "            TBAs[coupon_rates[i]]['Year'] = TBAs[coupon_rates[i]].index.year\n",
    "\n",
    "        FN_issue.set_index('Date', inplace = True)\n",
    "        rr_daily.set_index('Date', inplace = True)\n",
    "        rr_daily.columns = ['Last rate', 'Mid rate']\n",
    "        TR_10.set_index('Date', inplace = True)\n",
    "        TR_10.columns = ['10 year rate']\n",
    "        \n",
    "        all_coupons = []\n",
    "        for s in FN_issue.columns:\n",
    "            all_coupons.append(float(s.split()[4][:-1]))\n",
    "        \n",
    "        params = {}\n",
    "        n = 20\n",
    "        for i in all_coupons:\n",
    "            indexes = TBAs[i].index[n:]\n",
    "            ret = (TBAs[i]['price'].values[n:] - TBAs[i]['price'].values[:-n])/TBAs[i]['price'].values[:-n]\n",
    "            params[i] = pd.DataFrame({'Date':indexes, 'Return':ret})\n",
    "            params[i].set_index('Date', inplace = True)\n",
    "            params[i]['Rate Change'] = (TBAs[i]['Spread'].values[n:] - TBAs[i]['Spread'].values[:-n]) / 100\n",
    "\n",
    "        \n",
    "            \n",
    "        return TBAs, params, all_coupons"
   ]
  }
 ],
 "metadata": {
  "kernelspec": {
   "display_name": "Python 3",
   "language": "python",
   "name": "python3"
  },
  "language_info": {
   "codemirror_mode": {
    "name": "ipython",
    "version": 3
   },
   "file_extension": ".py",
   "mimetype": "text/x-python",
   "name": "python",
   "nbconvert_exporter": "python",
   "pygments_lexer": "ipython3",
   "version": "3.6.1"
  }
 },
 "nbformat": 4,
 "nbformat_minor": 2
}
