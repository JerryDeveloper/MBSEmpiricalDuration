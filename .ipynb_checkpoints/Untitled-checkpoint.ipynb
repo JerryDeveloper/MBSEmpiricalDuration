{
 "cells": [
  {
   "cell_type": "code",
   "execution_count": 1,
   "metadata": {},
   "outputs": [
    {
     "name": "stderr",
     "output_type": "stream",
     "text": [
      "/Users/Xinhui/anaconda/lib/python3.6/site-packages/statsmodels/compat/pandas.py:56: FutureWarning: The pandas.core.datetools module is deprecated and will be removed in a future version. Please use the pandas.tseries module instead.\n",
      "  from pandas.core import datetools\n"
     ]
    }
   ],
   "source": [
    "import numpy as np\n",
    "import statsmodels.api as sm\n",
    "import matplotlib.pyplot as plt\n"
   ]
  },
  {
   "cell_type": "code",
   "execution_count": 3,
   "metadata": {},
   "outputs": [],
   "source": [
    "# --- True values --- #\n",
    "init_state = 1.\n",
    "# covariance matrix\n",
    "state_noise = 0.02\n",
    "# measurement noise\n",
    "measure_noise = 0.8\n",
    "\n",
    "# --- Generate Data --- #\n",
    "np.random.seed(1234)\n",
    "numsteps = 80\n"
   ]
  },
  {
   "cell_type": "code",
   "execution_count": null,
   "metadata": {
    "collapsed": true
   },
   "outputs": [],
   "source": [
    "\n",
    "# control inputs\n",
    "controls = np.array([0]*1 + [0]*19 + [3]*40 + [0]*20)\n",
    "# get true states\n",
    "true_states = np.zeros(numsteps)\n",
    "true_states[0] = init_state \n",
    "true_states += controls\n",
    "# state noise\n",
    "true_states += np.random.normal(0, state_noise, numsteps)\n",
    "\n",
    "# measurements\n",
    "measurements = np.array([(s + np.random.normal(0, measure_noise)) for s in true_states])\n"
   ]
  }
 ],
 "metadata": {
  "kernelspec": {
   "display_name": "Python 3",
   "language": "python",
   "name": "python3"
  },
  "language_info": {
   "codemirror_mode": {
    "name": "ipython",
    "version": 3
   },
   "file_extension": ".py",
   "mimetype": "text/x-python",
   "name": "python",
   "nbconvert_exporter": "python",
   "pygments_lexer": "ipython3",
   "version": "3.6.1"
  }
 },
 "nbformat": 4,
 "nbformat_minor": 2
}
